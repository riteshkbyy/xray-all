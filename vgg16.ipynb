{
 "cells": [
  {
   "cell_type": "code",
   "execution_count": 1,
   "id": "c291af7d",
   "metadata": {},
   "outputs": [],
   "source": [
    "import pickle\n",
    "\n",
    "with open('trainX.pkl', 'rb') as f:\n",
    "    trainX = pickle.load(f)\n",
    "\n",
    "with open('testX.pkl', 'rb') as f:\n",
    "    testX = pickle.load(f)\n",
    "\n",
    "with open('trainY.pkl', 'rb') as f:\n",
    "    trainY = pickle.load(f)\n",
    "\n",
    "with open('testY.pkl', 'rb') as f:\n",
    "    testY = pickle.load(f)\n",
    "\n",
    "with open('valX.pkl', 'rb') as f:\n",
    "    valX = pickle.load(f)\n",
    "\n",
    "with open('valY.pkl', 'rb') as f:\n",
    "    valY = pickle.load(f)\n",
    "\n",
    "with open('le.pkl', 'rb') as f:\n",
    "    le = pickle.load(f)\n"
   ]
  },
  {
   "cell_type": "code",
   "execution_count": 9,
   "id": "46d4412b",
   "metadata": {},
   "outputs": [],
   "source": [
    "from tensorflow.keras.applications.vgg16 import VGG16\n",
    "from tensorflow.keras import layers, models\n",
    "from tensorflow import keras\n",
    "from tensorflow.keras.models import Sequential, Model\n",
    "from tensorflow.keras.layers import Conv2D, MaxPool2D,Input\n",
    "from tensorflow.keras.layers import Activation, Dropout,BatchNormalization, Flatten, Dense\n",
    "from tensorflow.keras.optimizers import Adam, SGD\n",
    "from tensorflow.keras.utils import to_categorical\n",
    "import numpy as np\n",
    "import pandas as pd\n",
    "from sklearn.metrics import confusion_matrix, classification_report\n",
    "import seaborn as sns\n",
    "import matplotlib.pyplot as plt\n",
    "from tensorflow.keras.preprocessing.image import ImageDataGenerator\n"
   ]
  },
  {
   "cell_type": "code",
   "execution_count": 3,
   "id": "c8afd6a2",
   "metadata": {},
   "outputs": [],
   "source": [
    "s=150\n",
    "batch_size = 40\n",
    "epochs = 20"
   ]
  },
  {
   "cell_type": "code",
   "execution_count": 4,
   "id": "d9a99dce",
   "metadata": {},
   "outputs": [],
   "source": [
    "model_base = VGG16(input_shape = (s,s,3), include_top = False)"
   ]
  },
  {
   "cell_type": "code",
   "execution_count": 5,
   "id": "bf929d24",
   "metadata": {},
   "outputs": [],
   "source": [
    "x = Flatten()(model_base.output)\n",
    "x = layers.Dense(512, activation='relu')(x)\n",
    "x = layers.Dropout(0.5)(x)\n",
    "x = layers.Dense(4, activation='sigmoid')(x)\n",
    "model = keras.models.Model(model_base.input, x)\n",
    "model.compile(optimizer = keras.optimizers.RMSprop(learning_rate=0.0001), loss = 'binary_crossentropy',metrics = ['acc'])"
   ]
  },
  {
   "cell_type": "code",
   "execution_count": 6,
   "id": "724ab93d",
   "metadata": {},
   "outputs": [
    {
     "name": "stdout",
     "output_type": "stream",
     "text": [
      "Model: \"model\"\n",
      "_________________________________________________________________\n",
      "Layer (type)                 Output Shape              Param #   \n",
      "=================================================================\n",
      "input_1 (InputLayer)         [(None, 150, 150, 3)]     0         \n",
      "_________________________________________________________________\n",
      "block1_conv1 (Conv2D)        (None, 150, 150, 64)      1792      \n",
      "_________________________________________________________________\n",
      "block1_conv2 (Conv2D)        (None, 150, 150, 64)      36928     \n",
      "_________________________________________________________________\n",
      "block1_pool (MaxPooling2D)   (None, 75, 75, 64)        0         \n",
      "_________________________________________________________________\n",
      "block2_conv1 (Conv2D)        (None, 75, 75, 128)       73856     \n",
      "_________________________________________________________________\n",
      "block2_conv2 (Conv2D)        (None, 75, 75, 128)       147584    \n",
      "_________________________________________________________________\n",
      "block2_pool (MaxPooling2D)   (None, 37, 37, 128)       0         \n",
      "_________________________________________________________________\n",
      "block3_conv1 (Conv2D)        (None, 37, 37, 256)       295168    \n",
      "_________________________________________________________________\n",
      "block3_conv2 (Conv2D)        (None, 37, 37, 256)       590080    \n",
      "_________________________________________________________________\n",
      "block3_conv3 (Conv2D)        (None, 37, 37, 256)       590080    \n",
      "_________________________________________________________________\n",
      "block3_pool (MaxPooling2D)   (None, 18, 18, 256)       0         \n",
      "_________________________________________________________________\n",
      "block4_conv1 (Conv2D)        (None, 18, 18, 512)       1180160   \n",
      "_________________________________________________________________\n",
      "block4_conv2 (Conv2D)        (None, 18, 18, 512)       2359808   \n",
      "_________________________________________________________________\n",
      "block4_conv3 (Conv2D)        (None, 18, 18, 512)       2359808   \n",
      "_________________________________________________________________\n",
      "block4_pool (MaxPooling2D)   (None, 9, 9, 512)         0         \n",
      "_________________________________________________________________\n",
      "block5_conv1 (Conv2D)        (None, 9, 9, 512)         2359808   \n",
      "_________________________________________________________________\n",
      "block5_conv2 (Conv2D)        (None, 9, 9, 512)         2359808   \n",
      "_________________________________________________________________\n",
      "block5_conv3 (Conv2D)        (None, 9, 9, 512)         2359808   \n",
      "_________________________________________________________________\n",
      "block5_pool (MaxPooling2D)   (None, 4, 4, 512)         0         \n",
      "_________________________________________________________________\n",
      "flatten (Flatten)            (None, 8192)              0         \n",
      "_________________________________________________________________\n",
      "dense (Dense)                (None, 512)               4194816   \n",
      "_________________________________________________________________\n",
      "dropout (Dropout)            (None, 512)               0         \n",
      "_________________________________________________________________\n",
      "dense_1 (Dense)              (None, 4)                 2052      \n",
      "=================================================================\n",
      "Total params: 18,911,556\n",
      "Trainable params: 18,911,556\n",
      "Non-trainable params: 0\n",
      "_________________________________________________________________\n"
     ]
    }
   ],
   "source": [
    "model.summary()"
   ]
  },
  {
   "cell_type": "code",
   "execution_count": 7,
   "id": "50c9190d",
   "metadata": {},
   "outputs": [],
   "source": [
    "early_stopping = keras.callbacks.EarlyStopping(\n",
    "    monitor = 'val_loss',\n",
    "    mode = 'auto',\n",
    "    min_delta = 0,\n",
    "    patience = 3,\n",
    "    verbose = 1,\n",
    "    restore_best_weights = True\n",
    ")"
   ]
  },
  {
   "cell_type": "code",
   "execution_count": 10,
   "id": "d9d4064a",
   "metadata": {},
   "outputs": [],
   "source": [
    "aug = ImageDataGenerator(rotation_range=20, zoom_range=0.15,width_shift_range=0.2, \n",
    "                         height_shift_range=0.2, shear_range=0.15,\n",
    "                         horizontal_flip=True, fill_mode=\"nearest\")"
   ]
  },
  {
   "cell_type": "code",
   "execution_count": 11,
   "id": "355ce84c",
   "metadata": {},
   "outputs": [
    {
     "name": "stdout",
     "output_type": "stream",
     "text": [
      "Epoch 1/20\n",
      "339/339 [==============================] - 127s 352ms/step - loss: 0.3971 - acc: 0.6393 - val_loss: 0.2380 - val_acc: 0.7951\n",
      "Epoch 2/20\n",
      "339/339 [==============================] - 110s 326ms/step - loss: 0.2806 - acc: 0.7736 - val_loss: 0.2000 - val_acc: 0.8462\n",
      "Epoch 3/20\n",
      "339/339 [==============================] - 111s 326ms/step - loss: 0.2299 - acc: 0.8225 - val_loss: 0.1931 - val_acc: 0.8468\n",
      "Epoch 4/20\n",
      "339/339 [==============================] - 111s 326ms/step - loss: 0.2069 - acc: 0.8433 - val_loss: 0.1554 - val_acc: 0.8751\n",
      "Epoch 5/20\n",
      "339/339 [==============================] - 111s 326ms/step - loss: 0.1890 - acc: 0.8581 - val_loss: 0.1647 - val_acc: 0.8943\n",
      "Epoch 6/20\n",
      "339/339 [==============================] - 111s 326ms/step - loss: 0.1839 - acc: 0.8635 - val_loss: 0.1454 - val_acc: 0.8846\n",
      "Epoch 7/20\n",
      "339/339 [==============================] - 111s 326ms/step - loss: 0.1719 - acc: 0.8767 - val_loss: 0.2152 - val_acc: 0.8474\n",
      "Epoch 8/20\n",
      "339/339 [==============================] - 110s 324ms/step - loss: 0.1685 - acc: 0.8794 - val_loss: 0.1616 - val_acc: 0.8878\n",
      "Epoch 9/20\n",
      "339/339 [==============================] - 110s 324ms/step - loss: 0.1628 - acc: 0.8809 - val_loss: 0.1530 - val_acc: 0.8828\n",
      "Restoring model weights from the end of the best epoch.\n",
      "Epoch 00009: early stopping\n"
     ]
    }
   ],
   "source": [
    "vgghist = model.fit(aug.flow(trainX, trainY, batch_size=batch_size), \n",
    "                     epochs=epochs,\n",
    "                     callbacks = [early_stopping],\n",
    "                     validation_data = (valX,valY),\n",
    "                     verbose=1\n",
    ")"
   ]
  },
  {
   "cell_type": "code",
   "execution_count": 12,
   "id": "832337d1",
   "metadata": {},
   "outputs": [
    {
     "name": "stdout",
     "output_type": "stream",
     "text": [
      "133/133 [==============================] - 14s 100ms/step - loss: 0.1590 - acc: 0.8724\n",
      "Test Loss is 0.15901975333690643\n",
      "Test Accuracy is 0.8724309206008911\n"
     ]
    }
   ],
   "source": [
    "modelLoss, modelAccuracy = model.evaluate(aug.flow(testX, testY))\n",
    "\n",
    "print('Test Loss is {}'.format(modelLoss))\n",
    "print('Test Accuracy is {}'.format(modelAccuracy ))\n",
    "\n"
   ]
  },
  {
   "cell_type": "code",
   "execution_count": 13,
   "id": "94e7e183",
   "metadata": {},
   "outputs": [],
   "source": [
    "# modelLoss, modelAccuracy = model.evaluate(aug.flow(trainX, trainY))\n",
    "\n",
    "# print('Test Loss is {}'.format(modelLoss))\n",
    "# print('Test Accuracy is {}'.format(modelAccuracy ))\n"
   ]
  },
  {
   "cell_type": "code",
   "execution_count": 14,
   "id": "d54a51c7",
   "metadata": {},
   "outputs": [],
   "source": [
    "# classification report on train\n",
    "# predIdxs = model.predict(taug.flow(rainX), batch_size=batch_size)\n",
    "# predIdxs = np.argmax(predIdxs, axis=1)\n",
    "# print(classification_report(trainY.argmax(axis=1), predIdxs, target_names=le.classes_, digits = 5))"
   ]
  },
  {
   "cell_type": "code",
   "execution_count": 15,
   "id": "5dd47840",
   "metadata": {},
   "outputs": [
    {
     "name": "stdout",
     "output_type": "stream",
     "text": [
      "              precision    recall  f1-score   support\n",
      "\n",
      "    Covid-19    0.97500   0.70124   0.81577       723\n",
      "Lung Opacity    0.88508   0.85857   0.87162      1202\n",
      "      Normal    0.84615   0.97646   0.90665      2039\n",
      "   Pneumonia    0.98454   0.71004   0.82505       269\n",
      "\n",
      "    accuracy                        0.87905      4233\n",
      "   macro avg    0.92269   0.81158   0.85477      4233\n",
      "weighted avg    0.88801   0.87905   0.87599      4233\n",
      "\n"
     ]
    }
   ],
   "source": [
    "# classification report on test\n",
    "\n",
    "predIdxs = model.predict(testX, batch_size=batch_size)\n",
    "predIdxs = np.argmax(predIdxs, axis=1)\n",
    "print(classification_report(testY.argmax(axis=1), predIdxs, target_names=le.classes_, digits = 5))"
   ]
  },
  {
   "cell_type": "code",
   "execution_count": 16,
   "id": "466a4d44",
   "metadata": {},
   "outputs": [
    {
     "name": "stdout",
     "output_type": "stream",
     "text": [
      "Lung Opacity\n"
     ]
    }
   ],
   "source": [
    "class_names = ['Covid-19', 'Lung Opacity', 'Normal', 'Pneumonia']\n",
    "y_pred = model.predict(testX)\n",
    "print(class_names[np.argmax(y_pred[11])])"
   ]
  },
  {
   "cell_type": "code",
   "execution_count": 17,
   "id": "507e20e9",
   "metadata": {},
   "outputs": [
    {
     "data": {
      "image/png": "[encoded data removed]",
      "text/plain": [
       "<Figure size 640x480 with 2 Axes>"
      ]
     },
     "metadata": {},
     "output_type": "display_data"
    }
   ],
   "source": [
    "# Plotting Confusion Matrix\n",
    "x = confusion_matrix(testY.argmax(axis=1),y_pred.argmax(axis=1))\n",
    "Confusion_Matrix = pd.DataFrame(x,index=class_names, columns=class_names)\n",
    "\n",
    "sns.set(font_scale=1.5, color_codes=True, palette='deep')\n",
    "sns.heatmap(Confusion_Matrix, annot=True, annot_kws={'size':16}, fmt='d', cmap='YlGnBu')\n",
    "\n",
    "plt.ylabel(\"Actual\")\n",
    "plt.xlabel(\"Predicted\")\n",
    "plt.title('Confusion Matrix')\n",
    "plt.show()"
   ]
  },
  {
   "cell_type": "code",
   "execution_count": 18,
   "id": "5d1032ac",
   "metadata": {},
   "outputs": [
    {
     "data": {
      "text/plain": [
       "<matplotlib.legend.Legend at 0x7f074c2630d0>"
      ]
     },
     "execution_count": 18,
     "metadata": {},
     "output_type": "execute_result"
    }
   ],
   "source": [
    "plt.plot(vgghist.history['acc'], label='accuracy')\n",
    "plt.plot(vgghist.history['loss'], label = 'loss')\n",
    "plt.xlabel('Epoch')\n",
    "plt.ylabel('Accuracy')\n",
    "plt.ylim([0,1])\n",
    "plt.legend(loc='center right')\n"
   ]
  },
  {
   "cell_type": "code",
   "execution_count": 19,
   "id": "f0ee40dc",
   "metadata": {},
   "outputs": [],
   "source": [
    "model.save('vgg16_model.h5') "
   ]
  },
  {
   "cell_type": "code",
   "execution_count": null,
   "id": "d97506b9",
   "metadata": {},
   "outputs": [],
   "source": []
  },
  {
   "cell_type": "code",
   "execution_count": null,
   "id": "bfc9c499",
   "metadata": {},
   "outputs": [],
   "source": []
  }
 ],
 "metadata": {
  "kernelspec": {
   "display_name": "Python 3 (ipykernel)",
   "language": "python",
   "name": "python3"
  },
  "language_info": {
   "codemirror_mode": {
    "name": "ipython",
    "version": 3
   },
   "file_extension": ".py",
   "mimetype": "text/x-python",
   "name": "python",
   "nbconvert_exporter": "python",
   "pygments_lexer": "ipython3",
   "version": "3.9.6"
  }
 },
 "nbformat": 4,
 "nbformat_minor": 5
}
