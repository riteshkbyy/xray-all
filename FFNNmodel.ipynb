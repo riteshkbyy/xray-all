{
 "cells": [
  {
   "cell_type": "code",
   "execution_count": 4,
   "id": "372919de",
   "metadata": {},
   "outputs": [],
   "source": [
    "%store -r trainX\n",
    "%store -r testX\n",
    "%store -r trainY\n",
    "%store -r testY\n",
    "%store -r valX\n",
    "%store -r valY\n",
    "%store -r le"
   ]
  },
  {
   "cell_type": "code",
   "execution_count": 5,
   "id": "aef76b67",
   "metadata": {},
   "outputs": [],
   "source": [
    "from tensorflow.keras import layers, models\n",
    "from tensorflow import keras\n",
    "from tensorflow.keras.models import Sequential, Model\n",
    "from tensorflow.keras.layers import Conv2D, MaxPool2D,Input\n",
    "# from tensorflow.keras.layers import LSTM, GRU, SimpleRNN\n",
    "from tensorflow.keras.layers import Activation, Dropout, Flatten, Dense\n",
    "from tensorflow.keras.optimizers import Adam, SGD\n",
    "from tensorflow.keras.utils import to_categorical\n",
    "import numpy as np\n",
    "import pandas as pd\n",
    "import seaborn as sns\n",
    "import matplotlib.pyplot as plt\n",
    "from sklearn.metrics import confusion_matrix, classification_report\n"
   ]
  },
  {
   "cell_type": "markdown",
   "id": "88c4eee3",
   "metadata": {},
   "source": [
    "## Feed Forward Neural Network"
   ]
  },
  {
   "cell_type": "code",
   "execution_count": 6,
   "id": "d9499dac",
   "metadata": {},
   "outputs": [],
   "source": [
    "s=100\n",
    "batch_size = 20\n",
    "epochs = 50"
   ]
  },
  {
   "cell_type": "code",
   "execution_count": 8,
   "id": "2459d7ba",
   "metadata": {},
   "outputs": [
    {
     "name": "stdout",
     "output_type": "stream",
     "text": [
      "Model: \"sequential_1\"\n",
      "_________________________________________________________________\n",
      "Layer (type)                 Output Shape              Param #   \n",
      "=================================================================\n",
      "flatten_1 (Flatten)          (902, 30000)              0         \n",
      "_________________________________________________________________\n",
      "input_2 (InputLayer)         multiple                  0         \n",
      "_________________________________________________________________\n",
      "batch_normalization (BatchNo (902, 30000)              120000    \n",
      "_________________________________________________________________\n",
      "dense (Dense)                (902, 512)                15360512  \n",
      "_________________________________________________________________\n",
      "dense_1 (Dense)              (902, 256)                131328    \n",
      "_________________________________________________________________\n",
      "batch_normalization_1 (Batch (902, 256)                1024      \n",
      "_________________________________________________________________\n",
      "dense_2 (Dense)              (902, 4)                  1028      \n",
      "=================================================================\n",
      "Total params: 15,613,892\n",
      "Trainable params: 15,553,380\n",
      "Non-trainable params: 60,512\n",
      "_________________________________________________________________\n"
     ]
    }
   ],
   "source": [
    "model = Sequential()\n",
    "model.add(Flatten())\n",
    "model.add(Input(shape=(s,s,3)))\n",
    "model.add(keras.layers.BatchNormalization())\n",
    "model.add(Dense(512,  activation=\"sigmoid\"))\n",
    "model.add(Dense(256, activation=\"sigmoid\"))\n",
    "model.add(keras.layers.BatchNormalization())\n",
    "model.add(Dense(4, activation=\"softmax\"))\n",
    "model.build(input_shape = trainX.shape)\n",
    "model.summary()"
   ]
  },
  {
   "cell_type": "code",
   "execution_count": 9,
   "id": "b9ebb999",
   "metadata": {},
   "outputs": [],
   "source": [
    "model.compile(optimizer = 'adam',\n",
    "              loss= keras.losses.categorical_crossentropy,\n",
    "              metrics= ['accuracy']\n",
    "             )"
   ]
  },
  {
   "cell_type": "code",
   "execution_count": 10,
   "id": "263d55fd",
   "metadata": {},
   "outputs": [
    {
     "name": "stdout",
     "output_type": "stream",
     "text": [
      "Model: \"sequential_1\"\n",
      "_________________________________________________________________\n",
      "Layer (type)                 Output Shape              Param #   \n",
      "=================================================================\n",
      "flatten_1 (Flatten)          (902, 30000)              0         \n",
      "_________________________________________________________________\n",
      "input_2 (InputLayer)         multiple                  0         \n",
      "_________________________________________________________________\n",
      "batch_normalization (BatchNo (902, 30000)              120000    \n",
      "_________________________________________________________________\n",
      "dense (Dense)                (902, 512)                15360512  \n",
      "_________________________________________________________________\n",
      "dense_1 (Dense)              (902, 256)                131328    \n",
      "_________________________________________________________________\n",
      "batch_normalization_1 (Batch (902, 256)                1024      \n",
      "_________________________________________________________________\n",
      "dense_2 (Dense)              (902, 4)                  1028      \n",
      "=================================================================\n",
      "Total params: 15,613,892\n",
      "Trainable params: 15,553,380\n",
      "Non-trainable params: 60,512\n",
      "_________________________________________________________________\n",
      "None\n"
     ]
    }
   ],
   "source": [
    "print(model.summary())"
   ]
  },
  {
   "cell_type": "code",
   "execution_count": 11,
   "id": "35a37c03",
   "metadata": {},
   "outputs": [],
   "source": [
    "early_stopping = keras.callbacks.EarlyStopping(\n",
    "    monitor = 'val_loss',\n",
    "    mode = 'auto',\n",
    "    min_delta = 0,\n",
    "    patience = 5,\n",
    "    verbose = 1,\n",
    "    restore_best_weights = True\n",
    ")"
   ]
  },
  {
   "cell_type": "code",
   "execution_count": 12,
   "id": "0b4a9185",
   "metadata": {},
   "outputs": [
    {
     "name": "stdout",
     "output_type": "stream",
     "text": [
      "Epoch 1/50\n",
      "46/46 [==============================] - 8s 132ms/step - loss: 2.0579 - accuracy: 0.4725 - val_loss: 1.4334 - val_accuracy: 0.4646\n",
      "Epoch 2/50\n",
      "46/46 [==============================] - 5s 108ms/step - loss: 0.9327 - accuracy: 0.6119 - val_loss: 1.2746 - val_accuracy: 0.4646\n",
      "Epoch 3/50\n",
      "46/46 [==============================] - 6s 129ms/step - loss: 0.8596 - accuracy: 0.6481 - val_loss: 1.2047 - val_accuracy: 0.4779\n",
      "Epoch 4/50\n",
      "46/46 [==============================] - 8s 170ms/step - loss: 0.7368 - accuracy: 0.7105 - val_loss: 0.9930 - val_accuracy: 0.5531\n",
      "Epoch 5/50\n",
      "46/46 [==============================] - 8s 179ms/step - loss: 0.7483 - accuracy: 0.7088 - val_loss: 0.9829 - val_accuracy: 0.5487\n",
      "Epoch 6/50\n",
      "46/46 [==============================] - 7s 155ms/step - loss: 0.7058 - accuracy: 0.7191 - val_loss: 1.0724 - val_accuracy: 0.5531\n",
      "Epoch 7/50\n",
      "46/46 [==============================] - 8s 171ms/step - loss: 0.6906 - accuracy: 0.7138 - val_loss: 0.9438 - val_accuracy: 0.6062\n",
      "Epoch 8/50\n",
      "46/46 [==============================] - 7s 157ms/step - loss: 0.6977 - accuracy: 0.7119 - val_loss: 0.8456 - val_accuracy: 0.6372\n",
      "Epoch 9/50\n",
      "46/46 [==============================] - 8s 170ms/step - loss: 0.6739 - accuracy: 0.7210 - val_loss: 0.7849 - val_accuracy: 0.6239\n",
      "Epoch 10/50\n",
      "46/46 [==============================] - 8s 171ms/step - loss: 0.6200 - accuracy: 0.7555 - val_loss: 0.9164 - val_accuracy: 0.6062\n",
      "Epoch 11/50\n",
      "46/46 [==============================] - 8s 173ms/step - loss: 0.6307 - accuracy: 0.7604 - val_loss: 0.8320 - val_accuracy: 0.6549\n",
      "Epoch 12/50\n",
      "46/46 [==============================] - 7s 151ms/step - loss: 0.7099 - accuracy: 0.7245 - val_loss: 0.9004 - val_accuracy: 0.6195\n",
      "Epoch 13/50\n",
      "46/46 [==============================] - 8s 168ms/step - loss: 0.6023 - accuracy: 0.7541 - val_loss: 0.7644 - val_accuracy: 0.6858\n",
      "Epoch 14/50\n",
      "46/46 [==============================] - 8s 167ms/step - loss: 0.5440 - accuracy: 0.7876 - val_loss: 0.7675 - val_accuracy: 0.6858\n",
      "Epoch 15/50\n",
      "46/46 [==============================] - 6s 135ms/step - loss: 0.5235 - accuracy: 0.7851 - val_loss: 0.7517 - val_accuracy: 0.6991\n",
      "Epoch 16/50\n",
      "46/46 [==============================] - 7s 153ms/step - loss: 0.6512 - accuracy: 0.7253 - val_loss: 0.8311 - val_accuracy: 0.6726\n",
      "Epoch 17/50\n",
      "46/46 [==============================] - 8s 166ms/step - loss: 0.5450 - accuracy: 0.7804 - val_loss: 0.8152 - val_accuracy: 0.6858\n",
      "Epoch 18/50\n",
      "46/46 [==============================] - 8s 165ms/step - loss: 0.5053 - accuracy: 0.8047 - val_loss: 0.8528 - val_accuracy: 0.6327\n",
      "Epoch 19/50\n",
      "46/46 [==============================] - 7s 154ms/step - loss: 0.5146 - accuracy: 0.8273 - val_loss: 0.8815 - val_accuracy: 0.6372\n",
      "Epoch 20/50\n",
      "46/46 [==============================] - 9s 190ms/step - loss: 0.6225 - accuracy: 0.7628 - val_loss: 0.8455 - val_accuracy: 0.6681\n",
      "Restoring model weights from the end of the best epoch.\n",
      "Epoch 00020: early stopping\n"
     ]
    }
   ],
   "source": [
    "FFNNmodel = model.fit(trainX,\n",
    "                     trainY, \n",
    "                     epochs=epochs,\n",
    "                     callbacks = [early_stopping],\n",
    "                     validation_data = (valX,valY),\n",
    "                     batch_size=batch_size,\n",
    "                     verbose=1\n",
    ")"
   ]
  },
  {
   "cell_type": "code",
   "execution_count": 13,
   "id": "3448fd51",
   "metadata": {},
   "outputs": [
    {
     "name": "stdout",
     "output_type": "stream",
     "text": [
      "Test Loss is 0.9537246823310852\n",
      "Test Accuracy is 0.6289752721786499\n"
     ]
    }
   ],
   "source": [
    "modelLoss, modelAccuracy = model.evaluate(testX, testY, verbose=0)\n",
    "\n",
    "print('Test Loss is {}'.format(modelLoss))\n",
    "print('Test Accuracy is {}'.format(modelAccuracy ))\n",
    "\n"
   ]
  },
  {
   "cell_type": "code",
   "execution_count": 14,
   "id": "2ae390f0",
   "metadata": {},
   "outputs": [
    {
     "name": "stdout",
     "output_type": "stream",
     "text": [
      "Test Loss is 0.4878520369529724\n",
      "Test Accuracy is 0.7915742993354797\n"
     ]
    }
   ],
   "source": [
    "modelLoss, modelAccuracy = model.evaluate(trainX, trainY, verbose=0)\n",
    "\n",
    "print('Test Loss is {}'.format(modelLoss))\n",
    "print('Test Accuracy is {}'.format(modelAccuracy ))\n",
    "\n"
   ]
  },
  {
   "cell_type": "code",
   "execution_count": 15,
   "id": "bdb12d78",
   "metadata": {},
   "outputs": [
    {
     "name": "stdout",
     "output_type": "stream",
     "text": [
      "              precision    recall  f1-score   support\n",
      "\n",
      "    Covid-19    0.69466   0.60265   0.64539       151\n",
      "Lung Opacity    0.81106   0.68750   0.74419       256\n",
      "      Normal    0.79242   0.90639   0.84558       438\n",
      "   Pneumonia    0.94340   0.87719   0.90909        57\n",
      "\n",
      "    accuracy                        0.79157       902\n",
      "   macro avg    0.81038   0.76843   0.78606       902\n",
      "weighted avg    0.79088   0.79157   0.78730       902\n",
      "\n"
     ]
    }
   ],
   "source": [
    "# classification report on train\n",
    "predIdxs = model.predict(trainX, batch_size=batch_size)\n",
    "predIdxs = np.argmax(predIdxs, axis=1)\n",
    "print(classification_report(trainY.argmax(axis=1), predIdxs, target_names=le.classes_, digits = 5))"
   ]
  },
  {
   "cell_type": "code",
   "execution_count": 16,
   "id": "f177b59f",
   "metadata": {},
   "outputs": [
    {
     "name": "stdout",
     "output_type": "stream",
     "text": [
      "              precision    recall  f1-score   support\n",
      "\n",
      "    Covid-19    0.45455   0.40816   0.43011        49\n",
      "Lung Opacity    0.60345   0.43750   0.50725        80\n",
      "      Normal    0.66667   0.80882   0.73090       136\n",
      "   Pneumonia    0.81250   0.72222   0.76471        18\n",
      "\n",
      "    accuracy                        0.62898       283\n",
      "   macro avg    0.63429   0.59418   0.60824       283\n",
      "weighted avg    0.62134   0.62898   0.61774       283\n",
      "\n"
     ]
    }
   ],
   "source": [
    "# classification report on test\n",
    "\n",
    "predIdxs = model.predict(testX, batch_size=batch_size)\n",
    "predIdxs = np.argmax(predIdxs, axis=1)\n",
    "print(classification_report(testY.argmax(axis=1), predIdxs, target_names=le.classes_, digits = 5))"
   ]
  },
  {
   "cell_type": "code",
   "execution_count": 23,
   "id": "3cdbf400",
   "metadata": {},
   "outputs": [
    {
     "name": "stdout",
     "output_type": "stream",
     "text": [
      "Normal\n"
     ]
    }
   ],
   "source": [
    "class_names = list(le.classes_)\n",
    "y_pred = model.predict(testX)\n",
    "print(class_names[np.argmax(y_pred[11])])"
   ]
  },
  {
   "cell_type": "code",
   "execution_count": 24,
   "id": "d010b33f",
   "metadata": {},
   "outputs": [
    {
     "data": {
      "image/png": "[encoded data removed]",
      "text/plain": [
       "<Figure size 432x288 with 2 Axes>"
      ]
     },
     "metadata": {},
     "output_type": "display_data"
    }
   ],
   "source": [
    "# Plotting Confusion Matrix\n",
    "x = confusion_matrix(testY.argmax(axis=1),y_pred.argmax(axis=1))\n",
    "Confusion_Matrix = pd.DataFrame(x,index=class_names, columns=class_names)\n",
    "\n",
    "sns.set(font_scale=1.5, color_codes=True, palette='deep')\n",
    "sns.heatmap(Confusion_Matrix, annot=True, annot_kws={'size':16}, fmt='d', cmap='YlGnBu')\n",
    "\n",
    "plt.ylabel(\"Actual\")\n",
    "plt.xlabel(\"Predicted\")\n",
    "plt.title('Confusion Matrix')\n",
    "plt.show()"
   ]
  },
  {
   "cell_type": "code",
   "execution_count": 25,
   "id": "6bcec326",
   "metadata": {},
   "outputs": [
    {
     "data": {
      "text/plain": [
       "<matplotlib.legend.Legend at 0x7f54cc605a90>"
      ]
     },
     "execution_count": 25,
     "metadata": {},
     "output_type": "execute_result"
    },
    {
     "data": {
      "image/png": "[encoded data removed]",
      "text/plain": [
       "<Figure size 432x288 with 1 Axes>"
      ]
     },
     "metadata": {},
     "output_type": "display_data"
    }
   ],
   "source": [
    "plt.plot(FFNNmodel.history['accuracy'], label='accuracy')\n",
    "plt.plot(FFNNmodel.history['loss'], label = 'loss')\n",
    "plt.xlabel('Epoch')\n",
    "plt.ylabel('Accuracy')\n",
    "plt.ylim([0,1])\n",
    "plt.legend(loc='center right')\n"
   ]
  },
  {
   "cell_type": "code",
   "execution_count": 27,
   "id": "79c447fa",
   "metadata": {},
   "outputs": [],
   "source": [
    "model.save('FFNN_Covid19_Xray_V1.h5') "
   ]
  },
  {
   "cell_type": "code",
   "execution_count": null,
   "id": "166268cf",
   "metadata": {},
   "outputs": [],
   "source": []
  }
 ],
 "metadata": {
  "kernelspec": {
   "display_name": "Python 3",
   "language": "python",
   "name": "python3"
  },
  "language_info": {
   "codemirror_mode": {
    "name": "ipython",
    "version": 3
   },
   "file_extension": ".py",
   "mimetype": "text/x-python",
   "name": "python",
   "nbconvert_exporter": "python",
   "pygments_lexer": "ipython3",
   "version": "3.8.5"
  }
 },
 "nbformat": 4,
 "nbformat_minor": 5
}
