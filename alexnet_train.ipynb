{
 "cells": [
  {
   "cell_type": "code",
   "execution_count": 1,
   "id": "c291af7d",
   "metadata": {},
   "outputs": [],
   "source": [
    "import pickle\n",
    "\n",
    "with open('trainX.pkl', 'rb') as f:\n",
    "    trainX = pickle.load(f)\n",
    "\n",
    "with open('testX.pkl', 'rb') as f:\n",
    "    testX = pickle.load(f)\n",
    "\n",
    "with open('trainY.pkl', 'rb') as f:\n",
    "    trainY = pickle.load(f)\n",
    "\n",
    "with open('testY.pkl', 'rb') as f:\n",
    "    testY = pickle.load(f)\n",
    "\n",
    "with open('valX.pkl', 'rb') as f:\n",
    "    valX = pickle.load(f)\n",
    "\n",
    "with open('valY.pkl', 'rb') as f:\n",
    "    valY = pickle.load(f)\n",
    "\n",
    "with open('le.pkl', 'rb') as f:\n",
    "    le = pickle.load(f)\n"
   ]
  },
  {
   "cell_type": "code",
   "execution_count": 2,
   "id": "46d4412b",
   "metadata": {},
   "outputs": [
    {
     "name": "stderr",
     "output_type": "stream",
     "text": [
      "2021-09-12 13:29:54.894199: I tensorflow/stream_executor/platform/default/dso_loader.cc:49] Successfully opened dynamic library libcudart.so.10.1\n"
     ]
    }
   ],
   "source": [
    "from tensorflow.keras.applications.vgg16 import VGG16\n",
    "from tensorflow.keras import layers, models\n",
    "from tensorflow import keras\n",
    "from tensorflow.keras.models import Sequential, Model\n",
    "from tensorflow.keras.layers import Conv2D, MaxPooling2D,Input\n",
    "from tensorflow.keras.layers import Activation, Dropout,BatchNormalization, Flatten, Dense\n",
    "from tensorflow.keras.optimizers import Adam, SGD\n",
    "from tensorflow.keras.utils import to_categorical\n",
    "import numpy as np\n",
    "import pandas as pd\n",
    "from sklearn.metrics import confusion_matrix, classification_report\n",
    "import seaborn as sns\n",
    "import matplotlib.pyplot as plt\n",
    "from tensorflow.keras.preprocessing.image import ImageDataGenerator\n"
   ]
  },
  {
   "cell_type": "code",
   "execution_count": 3,
   "id": "c8afd6a2",
   "metadata": {},
   "outputs": [],
   "source": [
    "s=150\n",
    "batch_size = 40\n",
    "epochs = 20"
   ]
  },
  {
   "cell_type": "code",
   "execution_count": 9,
   "id": "d9a99dce",
   "metadata": {},
   "outputs": [
    {
     "name": "stdout",
     "output_type": "stream",
     "text": [
      "Model: \"sequential_1\"\n",
      "_________________________________________________________________\n",
      "Layer (type)                 Output Shape              Param #   \n",
      "=================================================================\n",
      "conv2d_5 (Conv2D)            (None, 35, 35, 96)        34944     \n",
      "_________________________________________________________________\n",
      "activation_8 (Activation)    (None, 35, 35, 96)        0         \n",
      "_________________________________________________________________\n",
      "max_pooling2d_3 (MaxPooling2 (None, 17, 17, 96)        0         \n",
      "_________________________________________________________________\n",
      "batch_normalization_7 (Batch (None, 17, 17, 96)        384       \n",
      "_________________________________________________________________\n",
      "conv2d_6 (Conv2D)            (None, 17, 17, 256)       614656    \n",
      "_________________________________________________________________\n",
      "activation_9 (Activation)    (None, 17, 17, 256)       0         \n",
      "_________________________________________________________________\n",
      "max_pooling2d_4 (MaxPooling2 (None, 8, 8, 256)         0         \n",
      "_________________________________________________________________\n",
      "batch_normalization_8 (Batch (None, 8, 8, 256)         1024      \n",
      "_________________________________________________________________\n",
      "conv2d_7 (Conv2D)            (None, 8, 8, 384)         885120    \n",
      "_________________________________________________________________\n",
      "activation_10 (Activation)   (None, 8, 8, 384)         0         \n",
      "_________________________________________________________________\n",
      "batch_normalization_9 (Batch (None, 8, 8, 384)         1536      \n",
      "_________________________________________________________________\n",
      "conv2d_8 (Conv2D)            (None, 8, 8, 384)         1327488   \n",
      "_________________________________________________________________\n",
      "activation_11 (Activation)   (None, 8, 8, 384)         0         \n",
      "_________________________________________________________________\n",
      "batch_normalization_10 (Batc (None, 8, 8, 384)         1536      \n",
      "_________________________________________________________________\n",
      "conv2d_9 (Conv2D)            (None, 8, 8, 256)         884992    \n",
      "_________________________________________________________________\n",
      "activation_12 (Activation)   (None, 8, 8, 256)         0         \n",
      "_________________________________________________________________\n",
      "max_pooling2d_5 (MaxPooling2 (None, 3, 3, 256)         0         \n",
      "_________________________________________________________________\n",
      "batch_normalization_11 (Batc (None, 3, 3, 256)         1024      \n",
      "_________________________________________________________________\n",
      "flatten_1 (Flatten)          (None, 2304)              0         \n",
      "_________________________________________________________________\n",
      "dense_3 (Dense)              (None, 4096)              9441280   \n",
      "_________________________________________________________________\n",
      "activation_13 (Activation)   (None, 4096)              0         \n",
      "_________________________________________________________________\n",
      "dropout_2 (Dropout)          (None, 4096)              0         \n",
      "_________________________________________________________________\n",
      "batch_normalization_12 (Batc (None, 4096)              16384     \n",
      "_________________________________________________________________\n",
      "dense_4 (Dense)              (None, 4096)              16781312  \n",
      "_________________________________________________________________\n",
      "activation_14 (Activation)   (None, 4096)              0         \n",
      "_________________________________________________________________\n",
      "dropout_3 (Dropout)          (None, 4096)              0         \n",
      "_________________________________________________________________\n",
      "batch_normalization_13 (Batc (None, 4096)              16384     \n",
      "_________________________________________________________________\n",
      "dense_5 (Dense)              (None, 4)                 16388     \n",
      "_________________________________________________________________\n",
      "activation_15 (Activation)   (None, 4)                 0         \n",
      "=================================================================\n",
      "Total params: 30,024,452\n",
      "Trainable params: 30,005,316\n",
      "Non-trainable params: 19,136\n",
      "_________________________________________________________________\n"
     ]
    }
   ],
   "source": [
    "model = Sequential()\n",
    "\n",
    "# 1st Convolutional Layer\n",
    "model.add(Conv2D(filters=96, input_shape=(s,s,3), kernel_size=(11,11),\\\n",
    " strides=(4,4), padding='valid'))\n",
    "model.add(Activation('relu'))\n",
    "# Pooling \n",
    "model.add(MaxPooling2D(pool_size=(2,2), strides=(2,2), padding='valid'))\n",
    "# Batch Normalisation before passing it to the next layer\n",
    "model.add(BatchNormalization())\n",
    "\n",
    "\n",
    "# 2nd Convolutional Layer\n",
    "model.add(Conv2D(filters=256, kernel_size=(5,5), strides=(1,1), padding='same'))\n",
    "model.add(Activation('relu'))\n",
    "# Pooling\n",
    "model.add(MaxPooling2D(pool_size=(3,3), strides=(2,2), padding='valid'))\n",
    "# Batch Normalisation\n",
    "model.add(BatchNormalization())\n",
    "\n",
    "\n",
    "# 3rd Convolutional Layer\n",
    "model.add(Conv2D(filters=384, kernel_size=(3,3), strides=(1,1), padding='same'))\n",
    "model.add(Activation('relu'))\n",
    "# Batch Normalisation\n",
    "model.add(BatchNormalization())\n",
    "\n",
    "\n",
    "# 4th Convolutional Layer\n",
    "model.add(Conv2D(filters=384, kernel_size=(3,3), strides=(1,1), padding='same'))\n",
    "model.add(Activation('relu'))\n",
    "# Batch Normalisation\n",
    "model.add(BatchNormalization())\n",
    "\n",
    "\n",
    "# 5th Convolutional Layer\n",
    "model.add(Conv2D(filters=256, kernel_size=(3,3), strides=(1,1), padding='same'))\n",
    "model.add(Activation('relu'))\n",
    "# Pooling\n",
    "model.add(MaxPooling2D(pool_size=(3,3), strides=(2,2), padding='valid'))\n",
    "# Batch Normalisation\n",
    "model.add(BatchNormalization())\n",
    "\n",
    "\n",
    "# Passing it to a dense layer\n",
    "model.add(Flatten())\n",
    "\n",
    "\n",
    "# 1st Dense Layer\n",
    "model.add(Dense(4096, input_shape=(224*224*3,)))\n",
    "model.add(Activation('relu'))\n",
    "\n",
    "\n",
    "# Add Dropout to prevent overfitting\n",
    "model.add(Dropout(0.4))\n",
    "# Batch Normalisation\n",
    "model.add(BatchNormalization())\n",
    "\n",
    "\n",
    "# 2nd Dense Layer\n",
    "model.add(Dense(4096))\n",
    "model.add(Activation('relu'))\n",
    "\n",
    "# Add Dropout\n",
    "model.add(Dropout(0.4))\n",
    "# Batch Normalisation\n",
    "model.add(BatchNormalization())\n",
    "\n",
    "#  output Layer \n",
    "model.add(Dense(4))\n",
    "\n",
    "model.add(Activation('softmax'))\n",
    "\n",
    "model.summary()"
   ]
  },
  {
   "cell_type": "code",
   "execution_count": 10,
   "id": "bf929d24",
   "metadata": {},
   "outputs": [],
   "source": [
    "\n",
    "model.compile(optimizer = keras.optimizers.RMSprop(learning_rate=0.0001), loss = 'binary_crossentropy',metrics = ['acc'])"
   ]
  },
  {
   "cell_type": "code",
   "execution_count": null,
   "id": "724ab93d",
   "metadata": {},
   "outputs": [],
   "source": []
  },
  {
   "cell_type": "code",
   "execution_count": 11,
   "id": "50c9190d",
   "metadata": {},
   "outputs": [],
   "source": [
    "early_stopping = keras.callbacks.EarlyStopping(\n",
    "    monitor = 'val_loss',\n",
    "    mode = 'auto',\n",
    "    min_delta = 0,\n",
    "    patience = 3,\n",
    "    verbose = 1,\n",
    "    restore_best_weights = True\n",
    ")"
   ]
  },
  {
   "cell_type": "code",
   "execution_count": 12,
   "id": "d9d4064a",
   "metadata": {},
   "outputs": [],
   "source": [
    "aug = ImageDataGenerator(rotation_range=20, zoom_range=0.15,width_shift_range=0.2, \n",
    "                         height_shift_range=0.2, shear_range=0.15,\n",
    "                         horizontal_flip=True, fill_mode=\"nearest\")"
   ]
  },
  {
   "cell_type": "code",
   "execution_count": 13,
   "id": "355ce84c",
   "metadata": {},
   "outputs": [
    {
     "name": "stdout",
     "output_type": "stream",
     "text": [
      "Epoch 1/20\n",
      "339/339 [==============================] - ETA: 0s - loss: 0.7184 - acc: 0.5321"
     ]
    },
    {
     "name": "stderr",
     "output_type": "stream",
     "text": [
      "2021-09-12 13:32:23.176338: W tensorflow/core/framework/cpu_allocator_impl.cc:80] Allocation of 914490000 exceeds 10% of free system memory.\n"
     ]
    },
    {
     "name": "stdout",
     "output_type": "stream",
     "text": [
      "339/339 [==============================] - 43s 123ms/step - loss: 0.7181 - acc: 0.5322 - val_loss: 0.6565 - val_acc: 0.3956\n",
      "Epoch 2/20\n",
      "339/339 [==============================] - 40s 119ms/step - loss: 0.4462 - acc: 0.6506 - val_loss: 2.7035 - val_acc: 0.3091\n",
      "Epoch 3/20\n",
      "339/339 [==============================] - 40s 119ms/step - loss: 0.3574 - acc: 0.7131 - val_loss: 0.5821 - val_acc: 0.5619\n",
      "Epoch 4/20\n",
      "339/339 [==============================] - 40s 119ms/step - loss: 0.3128 - acc: 0.7515 - val_loss: 0.6129 - val_acc: 0.4880\n",
      "Epoch 5/20\n",
      "339/339 [==============================] - 40s 119ms/step - loss: 0.2802 - acc: 0.7820 - val_loss: 0.3877 - val_acc: 0.7110\n",
      "Epoch 6/20\n",
      "339/339 [==============================] - 40s 119ms/step - loss: 0.2646 - acc: 0.7941 - val_loss: 0.6527 - val_acc: 0.5264\n",
      "Epoch 7/20\n",
      "339/339 [==============================] - 40s 119ms/step - loss: 0.2478 - acc: 0.8029 - val_loss: 0.2194 - val_acc: 0.8217\n",
      "Epoch 8/20\n",
      "339/339 [==============================] - 40s 119ms/step - loss: 0.2346 - acc: 0.8168 - val_loss: 0.3550 - val_acc: 0.6841\n",
      "Epoch 9/20\n",
      "339/339 [==============================] - 40s 119ms/step - loss: 0.2237 - acc: 0.8224 - val_loss: 0.7811 - val_acc: 0.5793\n",
      "Epoch 10/20\n",
      "339/339 [==============================] - 40s 119ms/step - loss: 0.2125 - acc: 0.8359 - val_loss: 2.5034 - val_acc: 0.2380\n",
      "Restoring model weights from the end of the best epoch.\n",
      "Epoch 00010: early stopping\n"
     ]
    }
   ],
   "source": [
    "vgghist = model.fit(aug.flow(trainX, trainY, batch_size=batch_size), \n",
    "                     epochs=epochs,\n",
    "                     callbacks = [early_stopping],\n",
    "                     validation_data = (valX,valY),\n",
    "                     verbose=1\n",
    ")"
   ]
  },
  {
   "cell_type": "code",
   "execution_count": 14,
   "id": "832337d1",
   "metadata": {},
   "outputs": [
    {
     "name": "stdout",
     "output_type": "stream",
     "text": [
      "133/133 [==============================] - 12s 93ms/step - loss: 0.2569 - acc: 0.7895\n",
      "Test Loss is 0.25694507360458374\n",
      "Test Accuracy is 0.78951096534729\n"
     ]
    }
   ],
   "source": [
    "modelLoss, modelAccuracy = model.evaluate(aug.flow(testX, testY))\n",
    "\n",
    "print('Test Loss is {}'.format(modelLoss))\n",
    "print('Test Accuracy is {}'.format(modelAccuracy ))\n",
    "\n"
   ]
  },
  {
   "cell_type": "code",
   "execution_count": 15,
   "id": "5dd47840",
   "metadata": {},
   "outputs": [
    {
     "name": "stderr",
     "output_type": "stream",
     "text": [
      "2021-09-12 13:40:08.807086: W tensorflow/core/framework/cpu_allocator_impl.cc:80] Allocation of 1142910000 exceeds 10% of free system memory.\n"
     ]
    },
    {
     "name": "stdout",
     "output_type": "stream",
     "text": [
      "              precision    recall  f1-score   support\n",
      "\n",
      "    Covid-19    0.76840   0.69295   0.72873       723\n",
      "Lung Opacity    0.74506   0.87770   0.80596      1202\n",
      "      Normal    0.87150   0.82491   0.84757      2039\n",
      "   Pneumonia    0.93617   0.81784   0.87302       269\n",
      "\n",
      "    accuracy                        0.81691      4233\n",
      "   macro avg    0.83028   0.80335   0.81382      4233\n",
      "weighted avg    0.82210   0.81691   0.81707      4233\n",
      "\n"
     ]
    }
   ],
   "source": [
    "# classification report on test\n",
    "\n",
    "predIdxs = model.predict(testX, batch_size=batch_size)\n",
    "predIdxs = np.argmax(predIdxs, axis=1)\n",
    "print(classification_report(testY.argmax(axis=1), predIdxs, target_names=le.classes_, digits = 5))"
   ]
  },
  {
   "cell_type": "code",
   "execution_count": 16,
   "id": "466a4d44",
   "metadata": {},
   "outputs": [
    {
     "name": "stderr",
     "output_type": "stream",
     "text": [
      "2021-09-12 13:40:12.459392: W tensorflow/core/framework/cpu_allocator_impl.cc:80] Allocation of 1142910000 exceeds 10% of free system memory.\n"
     ]
    },
    {
     "name": "stdout",
     "output_type": "stream",
     "text": [
      "Lung Opacity\n"
     ]
    }
   ],
   "source": [
    "class_names = ['Covid-19', 'Lung Opacity', 'Normal', 'Pneumonia']\n",
    "y_pred = model.predict(testX)\n",
    "print(class_names[np.argmax(y_pred[11])])"
   ]
  },
  {
   "cell_type": "code",
   "execution_count": 17,
   "id": "507e20e9",
   "metadata": {},
   "outputs": [
    {
     "data": {
      "image/png": "[encoded data removed]",
      "text/plain": [
       "<Figure size 432x288 with 2 Axes>"
      ]
     },
     "metadata": {},
     "output_type": "display_data"
    }
   ],
   "source": [
    "# Plotting Confusion Matrix\n",
    "x = confusion_matrix(testY.argmax(axis=1),y_pred.argmax(axis=1))\n",
    "Confusion_Matrix = pd.DataFrame(x,index=class_names, columns=class_names)\n",
    "\n",
    "sns.set(font_scale=1.5, color_codes=True, palette='deep')\n",
    "sns.heatmap(Confusion_Matrix, annot=True, annot_kws={'size':16}, fmt='d', cmap='YlGnBu')\n",
    "\n",
    "plt.ylabel(\"Actual\")\n",
    "plt.xlabel(\"Predicted\")\n",
    "plt.title('Confusion Matrix')\n",
    "plt.show()"
   ]
  },
  {
   "cell_type": "code",
   "execution_count": 18,
   "id": "5d1032ac",
   "metadata": {},
   "outputs": [
    {
     "data": {
      "text/plain": [
       "<matplotlib.legend.Legend at 0x7f3b856e9430>"
      ]
     },
     "execution_count": 18,
     "metadata": {},
     "output_type": "execute_result"
    },
    {
     "data": {
      "image/png": "[encoded data removed]",
      "text/plain": [
       "<Figure size 432x288 with 1 Axes>"
      ]
     },
     "metadata": {},
     "output_type": "display_data"
    }
   ],
   "source": [
    "plt.plot(vgghist.history['acc'], label='accuracy')\n",
    "plt.plot(vgghist.history['loss'], label = 'loss')\n",
    "plt.xlabel('Epoch')\n",
    "plt.ylabel('Accuracy')\n",
    "plt.ylim([0,1])\n",
    "plt.legend(loc='center right')\n"
   ]
  },
  {
   "cell_type": "code",
   "execution_count": 19,
   "id": "f0ee40dc",
   "metadata": {},
   "outputs": [],
   "source": [
    "model.save('alexnet_model.h5') "
   ]
  },
  {
   "cell_type": "code",
   "execution_count": null,
   "id": "d97506b9",
   "metadata": {},
   "outputs": [],
   "source": []
  },
  {
   "cell_type": "code",
   "execution_count": null,
   "id": "bfc9c499",
   "metadata": {},
   "outputs": [],
   "source": []
  }
 ],
 "metadata": {
  "kernelspec": {
   "display_name": "Python 3 (ipykernel)",
   "language": "python",
   "name": "python3"
  },
  "language_info": {
   "codemirror_mode": {
    "name": "ipython",
    "version": 3
   },
   "file_extension": ".py",
   "mimetype": "text/x-python",
   "name": "python",
   "nbconvert_exporter": "python",
   "pygments_lexer": "ipython3",
   "version": "3.9.6"
  }
 },
 "nbformat": 4,
 "nbformat_minor": 5
}
